{
 "cells": [
  {
   "cell_type": "code",
   "execution_count": 1,
   "id": "ca2162d4",
   "metadata": {},
   "outputs": [],
   "source": [
    "import matplotlib as plt \n",
    "import pandas as pd\n",
    "from sklearn.model_selection import train_test_split\n",
    "from sklearn.svm import SVC \n",
    "\n",
    "\n",
    "%matplotlib inline"
   ]
  },
  {
   "cell_type": "markdown",
   "id": "125258b4",
   "metadata": {},
   "source": [
    "![Robot surface](https://www.lextronic.fr/imageslib/4D/0J7589.320.gif)"
   ]
  },
  {
   "cell_type": "code",
   "execution_count": 2,
   "id": "25b3ce72",
   "metadata": {},
   "outputs": [],
   "source": [
    "X_train = pd.read_csv('train_denoised.csv')"
   ]
  },
  {
   "cell_type": "code",
   "execution_count": 3,
   "id": "32a3978b",
   "metadata": {},
   "outputs": [
    {
     "data": {
      "text/plain": [
       "(488448, 13)"
      ]
     },
     "execution_count": 3,
     "metadata": {},
     "output_type": "execute_result"
    }
   ],
   "source": [
    "X_train.shape"
   ]
  },
  {
   "cell_type": "code",
   "execution_count": 4,
   "id": "502ef58d",
   "metadata": {},
   "outputs": [
    {
     "data": {
      "text/html": [
       "<div>\n",
       "<style scoped>\n",
       "    .dataframe tbody tr th:only-of-type {\n",
       "        vertical-align: middle;\n",
       "    }\n",
       "\n",
       "    .dataframe tbody tr th {\n",
       "        vertical-align: top;\n",
       "    }\n",
       "\n",
       "    .dataframe thead th {\n",
       "        text-align: right;\n",
       "    }\n",
       "</style>\n",
       "<table border=\"1\" class=\"dataframe\">\n",
       "  <thead>\n",
       "    <tr style=\"text-align: right;\">\n",
       "      <th></th>\n",
       "      <th>row_id</th>\n",
       "      <th>series_id</th>\n",
       "      <th>measurement_number</th>\n",
       "      <th>orientation_X</th>\n",
       "      <th>orientation_Y</th>\n",
       "      <th>orientation_Z</th>\n",
       "      <th>orientation_W</th>\n",
       "      <th>angular_velocity_X</th>\n",
       "      <th>angular_velocity_Y</th>\n",
       "      <th>angular_velocity_Z</th>\n",
       "      <th>linear_acceleration_X</th>\n",
       "      <th>linear_acceleration_Y</th>\n",
       "      <th>linear_acceleration_Z</th>\n",
       "    </tr>\n",
       "  </thead>\n",
       "  <tbody>\n",
       "    <tr>\n",
       "      <th>488443</th>\n",
       "      <td>3815_123</td>\n",
       "      <td>3815</td>\n",
       "      <td>123</td>\n",
       "      <td>-0.96683</td>\n",
       "      <td>0.20760</td>\n",
       "      <td>0.021964</td>\n",
       "      <td>-0.14715</td>\n",
       "      <td>-0.000943</td>\n",
       "      <td>-0.187672</td>\n",
       "      <td>0.565955</td>\n",
       "      <td>0.669942</td>\n",
       "      <td>3.703232</td>\n",
       "      <td>-9.463958</td>\n",
       "    </tr>\n",
       "    <tr>\n",
       "      <th>488444</th>\n",
       "      <td>3815_124</td>\n",
       "      <td>3815</td>\n",
       "      <td>124</td>\n",
       "      <td>-0.96668</td>\n",
       "      <td>0.20832</td>\n",
       "      <td>0.022090</td>\n",
       "      <td>-0.14712</td>\n",
       "      <td>0.008831</td>\n",
       "      <td>-0.189725</td>\n",
       "      <td>0.571592</td>\n",
       "      <td>0.534148</td>\n",
       "      <td>3.713131</td>\n",
       "      <td>-9.123287</td>\n",
       "    </tr>\n",
       "    <tr>\n",
       "      <th>488445</th>\n",
       "      <td>3815_125</td>\n",
       "      <td>3815</td>\n",
       "      <td>125</td>\n",
       "      <td>-0.96653</td>\n",
       "      <td>0.20902</td>\n",
       "      <td>0.022185</td>\n",
       "      <td>-0.14713</td>\n",
       "      <td>0.005668</td>\n",
       "      <td>-0.186319</td>\n",
       "      <td>0.573711</td>\n",
       "      <td>0.501348</td>\n",
       "      <td>3.646051</td>\n",
       "      <td>-8.748730</td>\n",
       "    </tr>\n",
       "    <tr>\n",
       "      <th>488446</th>\n",
       "      <td>3815_126</td>\n",
       "      <td>3815</td>\n",
       "      <td>126</td>\n",
       "      <td>-0.96637</td>\n",
       "      <td>0.20974</td>\n",
       "      <td>0.022284</td>\n",
       "      <td>-0.14710</td>\n",
       "      <td>-0.009409</td>\n",
       "      <td>-0.178358</td>\n",
       "      <td>0.571015</td>\n",
       "      <td>0.556620</td>\n",
       "      <td>3.496950</td>\n",
       "      <td>-8.589038</td>\n",
       "    </tr>\n",
       "    <tr>\n",
       "      <th>488447</th>\n",
       "      <td>3815_127</td>\n",
       "      <td>3815</td>\n",
       "      <td>127</td>\n",
       "      <td>-0.96621</td>\n",
       "      <td>0.21048</td>\n",
       "      <td>0.022436</td>\n",
       "      <td>-0.14709</td>\n",
       "      <td>-0.027071</td>\n",
       "      <td>-0.169430</td>\n",
       "      <td>0.564832</td>\n",
       "      <td>0.641492</td>\n",
       "      <td>3.305044</td>\n",
       "      <td>-8.772941</td>\n",
       "    </tr>\n",
       "  </tbody>\n",
       "</table>\n",
       "</div>"
      ],
      "text/plain": [
       "          row_id  series_id  measurement_number  orientation_X  orientation_Y  \\\n",
       "488443  3815_123       3815                 123       -0.96683        0.20760   \n",
       "488444  3815_124       3815                 124       -0.96668        0.20832   \n",
       "488445  3815_125       3815                 125       -0.96653        0.20902   \n",
       "488446  3815_126       3815                 126       -0.96637        0.20974   \n",
       "488447  3815_127       3815                 127       -0.96621        0.21048   \n",
       "\n",
       "        orientation_Z  orientation_W  angular_velocity_X  angular_velocity_Y  \\\n",
       "488443       0.021964       -0.14715           -0.000943           -0.187672   \n",
       "488444       0.022090       -0.14712            0.008831           -0.189725   \n",
       "488445       0.022185       -0.14713            0.005668           -0.186319   \n",
       "488446       0.022284       -0.14710           -0.009409           -0.178358   \n",
       "488447       0.022436       -0.14709           -0.027071           -0.169430   \n",
       "\n",
       "        angular_velocity_Z  linear_acceleration_X  linear_acceleration_Y  \\\n",
       "488443            0.565955               0.669942               3.703232   \n",
       "488444            0.571592               0.534148               3.713131   \n",
       "488445            0.573711               0.501348               3.646051   \n",
       "488446            0.571015               0.556620               3.496950   \n",
       "488447            0.564832               0.641492               3.305044   \n",
       "\n",
       "        linear_acceleration_Z  \n",
       "488443              -9.463958  \n",
       "488444              -9.123287  \n",
       "488445              -8.748730  \n",
       "488446              -8.589038  \n",
       "488447              -8.772941  "
      ]
     },
     "execution_count": 4,
     "metadata": {},
     "output_type": "execute_result"
    }
   ],
   "source": [
    "X_train.tail()"
   ]
  },
  {
   "cell_type": "code",
   "execution_count": 5,
   "id": "e56e41ab",
   "metadata": {},
   "outputs": [
    {
     "data": {
      "text/plain": [
       "row_id                   488448\n",
       "series_id                488448\n",
       "measurement_number       488448\n",
       "orientation_X            488448\n",
       "orientation_Y            488448\n",
       "orientation_Z            488448\n",
       "orientation_W            488448\n",
       "angular_velocity_X       488448\n",
       "angular_velocity_Y       488448\n",
       "angular_velocity_Z       488448\n",
       "linear_acceleration_X    488448\n",
       "linear_acceleration_Y    488448\n",
       "linear_acceleration_Z    488448\n",
       "dtype: int64"
      ]
     },
     "execution_count": 5,
     "metadata": {},
     "output_type": "execute_result"
    }
   ],
   "source": [
    "X_train.count()"
   ]
  },
  {
   "cell_type": "code",
   "execution_count": 6,
   "id": "1cacb473",
   "metadata": {},
   "outputs": [
    {
     "data": {
      "text/plain": [
       "(488448, 13)"
      ]
     },
     "execution_count": 6,
     "metadata": {},
     "output_type": "execute_result"
    }
   ],
   "source": [
    "X_train.shape"
   ]
  },
  {
   "cell_type": "code",
   "execution_count": 7,
   "id": "0ee76082",
   "metadata": {},
   "outputs": [
    {
     "data": {
      "text/html": [
       "<div>\n",
       "<style scoped>\n",
       "    .dataframe tbody tr th:only-of-type {\n",
       "        vertical-align: middle;\n",
       "    }\n",
       "\n",
       "    .dataframe tbody tr th {\n",
       "        vertical-align: top;\n",
       "    }\n",
       "\n",
       "    .dataframe thead th {\n",
       "        text-align: right;\n",
       "    }\n",
       "</style>\n",
       "<table border=\"1\" class=\"dataframe\">\n",
       "  <thead>\n",
       "    <tr style=\"text-align: right;\">\n",
       "      <th></th>\n",
       "      <th>series_id</th>\n",
       "      <th>group_id</th>\n",
       "      <th>surface</th>\n",
       "    </tr>\n",
       "  </thead>\n",
       "  <tbody>\n",
       "    <tr>\n",
       "      <th>0</th>\n",
       "      <td>0</td>\n",
       "      <td>13</td>\n",
       "      <td>fine_concrete</td>\n",
       "    </tr>\n",
       "    <tr>\n",
       "      <th>1</th>\n",
       "      <td>1</td>\n",
       "      <td>31</td>\n",
       "      <td>concrete</td>\n",
       "    </tr>\n",
       "    <tr>\n",
       "      <th>2</th>\n",
       "      <td>2</td>\n",
       "      <td>20</td>\n",
       "      <td>concrete</td>\n",
       "    </tr>\n",
       "    <tr>\n",
       "      <th>3</th>\n",
       "      <td>3</td>\n",
       "      <td>31</td>\n",
       "      <td>concrete</td>\n",
       "    </tr>\n",
       "    <tr>\n",
       "      <th>4</th>\n",
       "      <td>4</td>\n",
       "      <td>22</td>\n",
       "      <td>soft_tiles</td>\n",
       "    </tr>\n",
       "  </tbody>\n",
       "</table>\n",
       "</div>"
      ],
      "text/plain": [
       "   series_id  group_id        surface\n",
       "0          0        13  fine_concrete\n",
       "1          1        31       concrete\n",
       "2          2        20       concrete\n",
       "3          3        31       concrete\n",
       "4          4        22     soft_tiles"
      ]
     },
     "execution_count": 7,
     "metadata": {},
     "output_type": "execute_result"
    }
   ],
   "source": [
    "# Read y_train(target)\n",
    "y_train = pd.read_csv(\"y_train.csv\", skipinitialspace = True, squeeze = True)\n",
    "y_train.head()"
   ]
  },
  {
   "cell_type": "code",
   "execution_count": 8,
   "id": "f2bf0cba",
   "metadata": {},
   "outputs": [
    {
     "data": {
      "text/plain": [
       "series_id    3810\n",
       "group_id     3810\n",
       "surface      3810\n",
       "dtype: int64"
      ]
     },
     "execution_count": 8,
     "metadata": {},
     "output_type": "execute_result"
    }
   ],
   "source": [
    "y_train.count()"
   ]
  },
  {
   "cell_type": "code",
   "execution_count": 9,
   "id": "80f0a02e",
   "metadata": {},
   "outputs": [
    {
     "data": {
      "text/plain": [
       "(3810, 3)"
      ]
     },
     "execution_count": 9,
     "metadata": {},
     "output_type": "execute_result"
    }
   ],
   "source": [
    "y_train.shape"
   ]
  },
  {
   "cell_type": "code",
   "execution_count": 10,
   "id": "0161ed8c",
   "metadata": {},
   "outputs": [
    {
     "name": "stderr",
     "output_type": "stream",
     "text": [
      "C:\\Anaconda\\lib\\site-packages\\seaborn\\_decorators.py:36: FutureWarning: Pass the following variable as a keyword arg: x. From version 0.12, the only valid positional argument will be `data`, and passing other arguments without an explicit keyword will result in an error or misinterpretation.\n",
      "  warnings.warn(\n"
     ]
    },
    {
     "data": {
      "image/png": "[encoded data removed]",
      "text/plain": [
       "<Figure size 864x576 with 1 Axes>"
      ]
     },
     "metadata": {
      "needs_background": "light"
     },
     "output_type": "display_data"
    }
   ],
   "source": [
    "# Plot per class data-points\n",
    "import matplotlib.pyplot as plt\n",
    "import seaborn as sns\n",
    "\n",
    "plt.figure(figsize = (12, 8))\n",
    "sns.countplot(y_train[\"surface\"])\n",
    "plt.title(\"Number of datapoints per class\")\n",
    "plt.ylabel(\"Number of datapoints\")\n",
    "plt.xlabel(\"Class name\")\n",
    "plt.show()"
   ]
  },
  {
   "cell_type": "code",
   "execution_count": 11,
   "id": "b547761e",
   "metadata": {},
   "outputs": [],
   "source": [
    "# Encode class label\n",
    "y_train[\"surface_label\"] = y_train[\"surface\"].map({'fine_concrete':0, 'concrete':1, 'soft_tiles':2, 'tiled':3, 'soft_pvc':4,\n",
    "       'hard_tiles_large_space':5, 'carpet':6, 'hard_tiles':7, 'wood':8})"
   ]
  },
  {
   "cell_type": "code",
   "execution_count": 12,
   "id": "800bc63c",
   "metadata": {},
   "outputs": [
    {
     "data": {
      "text/html": [
       "<div>\n",
       "<style scoped>\n",
       "    .dataframe tbody tr th:only-of-type {\n",
       "        vertical-align: middle;\n",
       "    }\n",
       "\n",
       "    .dataframe tbody tr th {\n",
       "        vertical-align: top;\n",
       "    }\n",
       "\n",
       "    .dataframe thead th {\n",
       "        text-align: right;\n",
       "    }\n",
       "</style>\n",
       "<table border=\"1\" class=\"dataframe\">\n",
       "  <thead>\n",
       "    <tr style=\"text-align: right;\">\n",
       "      <th></th>\n",
       "      <th>row_id</th>\n",
       "      <th>series_id</th>\n",
       "      <th>measurement_number</th>\n",
       "      <th>orientation_X</th>\n",
       "      <th>orientation_Y</th>\n",
       "      <th>orientation_Z</th>\n",
       "      <th>orientation_W</th>\n",
       "      <th>angular_velocity_X</th>\n",
       "      <th>angular_velocity_Y</th>\n",
       "      <th>angular_velocity_Z</th>\n",
       "      <th>linear_acceleration_X</th>\n",
       "      <th>linear_acceleration_Y</th>\n",
       "      <th>linear_acceleration_Z</th>\n",
       "      <th>surface_label</th>\n",
       "    </tr>\n",
       "  </thead>\n",
       "  <tbody>\n",
       "    <tr>\n",
       "      <th>0</th>\n",
       "      <td>0_0</td>\n",
       "      <td>0</td>\n",
       "      <td>0</td>\n",
       "      <td>-0.025773</td>\n",
       "      <td>-0.98864</td>\n",
       "      <td>-0.14801</td>\n",
       "      <td>0.003350</td>\n",
       "      <td>-0.047434</td>\n",
       "      <td>0.052242</td>\n",
       "      <td>-0.051110</td>\n",
       "      <td>-0.349592</td>\n",
       "      <td>3.447810</td>\n",
       "      <td>-8.266600</td>\n",
       "      <td>0</td>\n",
       "    </tr>\n",
       "    <tr>\n",
       "      <th>1</th>\n",
       "      <td>0_1</td>\n",
       "      <td>0</td>\n",
       "      <td>1</td>\n",
       "      <td>-0.025683</td>\n",
       "      <td>-0.98862</td>\n",
       "      <td>-0.14816</td>\n",
       "      <td>0.003439</td>\n",
       "      <td>-0.016013</td>\n",
       "      <td>0.070963</td>\n",
       "      <td>-0.044423</td>\n",
       "      <td>0.149975</td>\n",
       "      <td>3.324911</td>\n",
       "      <td>-9.670939</td>\n",
       "      <td>0</td>\n",
       "    </tr>\n",
       "    <tr>\n",
       "      <th>2</th>\n",
       "      <td>0_2</td>\n",
       "      <td>0</td>\n",
       "      <td>2</td>\n",
       "      <td>-0.025617</td>\n",
       "      <td>-0.98861</td>\n",
       "      <td>-0.14826</td>\n",
       "      <td>0.003571</td>\n",
       "      <td>0.035311</td>\n",
       "      <td>0.064296</td>\n",
       "      <td>-0.037642</td>\n",
       "      <td>0.984894</td>\n",
       "      <td>3.136577</td>\n",
       "      <td>-10.237986</td>\n",
       "      <td>0</td>\n",
       "    </tr>\n",
       "    <tr>\n",
       "      <th>3</th>\n",
       "      <td>0_3</td>\n",
       "      <td>0</td>\n",
       "      <td>3</td>\n",
       "      <td>-0.025566</td>\n",
       "      <td>-0.98862</td>\n",
       "      <td>-0.14817</td>\n",
       "      <td>0.003609</td>\n",
       "      <td>0.066246</td>\n",
       "      <td>0.036622</td>\n",
       "      <td>-0.029866</td>\n",
       "      <td>1.715259</td>\n",
       "      <td>2.935127</td>\n",
       "      <td>-9.802881</td>\n",
       "      <td>0</td>\n",
       "    </tr>\n",
       "    <tr>\n",
       "      <th>4</th>\n",
       "      <td>0_4</td>\n",
       "      <td>0</td>\n",
       "      <td>4</td>\n",
       "      <td>-0.025548</td>\n",
       "      <td>-0.98866</td>\n",
       "      <td>-0.14792</td>\n",
       "      <td>0.003477</td>\n",
       "      <td>0.056346</td>\n",
       "      <td>0.004131</td>\n",
       "      <td>-0.020680</td>\n",
       "      <td>1.959945</td>\n",
       "      <td>2.754846</td>\n",
       "      <td>-8.981595</td>\n",
       "      <td>0</td>\n",
       "    </tr>\n",
       "  </tbody>\n",
       "</table>\n",
       "</div>"
      ],
      "text/plain": [
       "  row_id  series_id  measurement_number  orientation_X  orientation_Y  \\\n",
       "0    0_0          0                   0      -0.025773       -0.98864   \n",
       "1    0_1          0                   1      -0.025683       -0.98862   \n",
       "2    0_2          0                   2      -0.025617       -0.98861   \n",
       "3    0_3          0                   3      -0.025566       -0.98862   \n",
       "4    0_4          0                   4      -0.025548       -0.98866   \n",
       "\n",
       "   orientation_Z  orientation_W  angular_velocity_X  angular_velocity_Y  \\\n",
       "0       -0.14801       0.003350           -0.047434            0.052242   \n",
       "1       -0.14816       0.003439           -0.016013            0.070963   \n",
       "2       -0.14826       0.003571            0.035311            0.064296   \n",
       "3       -0.14817       0.003609            0.066246            0.036622   \n",
       "4       -0.14792       0.003477            0.056346            0.004131   \n",
       "\n",
       "   angular_velocity_Z  linear_acceleration_X  linear_acceleration_Y  \\\n",
       "0           -0.051110              -0.349592               3.447810   \n",
       "1           -0.044423               0.149975               3.324911   \n",
       "2           -0.037642               0.984894               3.136577   \n",
       "3           -0.029866               1.715259               2.935127   \n",
       "4           -0.020680               1.959945               2.754846   \n",
       "\n",
       "   linear_acceleration_Z  surface_label  \n",
       "0              -8.266600              0  \n",
       "1              -9.670939              0  \n",
       "2             -10.237986              0  \n",
       "3              -9.802881              0  \n",
       "4              -8.981595              0  "
      ]
     },
     "execution_count": 12,
     "metadata": {},
     "output_type": "execute_result"
    }
   ],
   "source": [
    "# To merge train_data with corresponding class label\n",
    "Data = pd.merge(X_train, y_train[[\"surface_label\", \"series_id\"]], on = \"series_id\") \n",
    "Data.head()"
   ]
  },
  {
   "cell_type": "code",
   "execution_count": 13,
   "id": "f62817c5",
   "metadata": {},
   "outputs": [],
   "source": [
    "Data=Data.drop(columns=['row_id', 'series_id','measurement_number'])"
   ]
  },
  {
   "cell_type": "code",
   "execution_count": 14,
   "id": "f5b8770d",
   "metadata": {},
   "outputs": [],
   "source": [
    "Data.to_csv('Detect surface.csv',index=False)"
   ]
  },
  {
   "cell_type": "code",
   "execution_count": 40,
   "id": "d6b97834",
   "metadata": {},
   "outputs": [
    {
     "name": "stdout",
     "output_type": "stream",
     "text": [
      "\n",
      "Number of duplicated records: 0\n"
     ]
    }
   ],
   "source": [
    "print('\\nNumber of duplicated records: {}'.format(Data.duplicated().sum()))"
   ]
  },
  {
   "cell_type": "code",
   "execution_count": null,
   "id": "1e9f29e2",
   "metadata": {},
   "outputs": [],
   "source": [
    "X_train.count()\n",
    "y_train.count()"
   ]
  },
  {
   "cell_type": "code",
   "execution_count": null,
   "id": "2f7ac682",
   "metadata": {},
   "outputs": [],
   "source": [
    "print(X_train.shape) \n",
    "print(y_train.shape)"
   ]
  },
  {
   "cell_type": "code",
   "execution_count": null,
   "id": "31316b2c",
   "metadata": {},
   "outputs": [],
   "source": [
    "Data.shape"
   ]
  },
  {
   "cell_type": "code",
   "execution_count": null,
   "id": "e75aaac2",
   "metadata": {},
   "outputs": [],
   "source": [
    "# Split the data into train and test\n",
    "\n",
    "X=Data[['orientation_X','orientation_Y','orientation_Z','orientation_W','angular_velocity_X','angular_velocity_Y','angular_velocity_Z','linear_acceleration_X','linear_acceleration_Y','linear_acceleration_Z']]\n",
    "y=Data['surface_label']\n",
    "X_train, X_test, y_train, y_test = train_test_split(X, y,test_size = 0.3, random_state = 4)"
   ]
  },
  {
   "cell_type": "code",
   "execution_count": null,
   "id": "b39f8bcc",
   "metadata": {},
   "outputs": [],
   "source": [
    "# Plot per class data-points\n",
    "import matplotlib.pyplot as plt\n",
    "import seaborn as sns\n",
    "\n",
    "plt.figure(figsize = (12, 8))\n",
    "sns.countplot(y)\n",
    "plt.title(\"Number of datapoints per class\")\n",
    "plt.ylabel(\"Number of datapoints\")\n",
    "plt.xlabel(\"Class name\")\n",
    "plt.show()"
   ]
  },
  {
   "cell_type": "code",
   "execution_count": null,
   "id": "5031b9c0",
   "metadata": {},
   "outputs": [],
   "source": [
    "from sklearn.preprocessing import StandardScaler\n",
    "sc_X=StandardScaler()\n",
    "X_train=sc_X.fit_transform(X_train)\n",
    "X_test=sc_X.fit_transform(X_test)"
   ]
  },
  {
   "cell_type": "code",
   "execution_count": null,
   "id": "2956090b",
   "metadata": {},
   "outputs": [],
   "source": [
    "Data.shape"
   ]
  },
  {
   "cell_type": "code",
   "execution_count": null,
   "id": "fb66967c",
   "metadata": {},
   "outputs": [],
   "source": [
    "from sklearn.svm import SVC \n",
    "svm = SVC(C=200)\n",
    "svm.fit(X_train, y_train)\n",
    "\n",
    "print('The accuracy on the training subset: {:.3f}'.format(svm.score(X_train, y_train)))\n",
    "print('The accuracy on the test subset: {:.3f}'.format(svm.score(X_test, y_test)))"
   ]
  },
  {
   "cell_type": "code",
   "execution_count": null,
   "id": "40c6d367",
   "metadata": {},
   "outputs": [],
   "source": [
    "print(svm.predict([[0.64135,0.75313,0.10835,0.098611,-0.195956,2.004110,-0.087878,5.993309,4.951328,0.346151]]))"
   ]
  },
  {
   "cell_type": "code",
   "execution_count": null,
   "id": "29551776",
   "metadata": {},
   "outputs": [],
   "source": [
    "from sklearn.neighbors import KNeighborsClassifier\n",
    "knn = KNeighborsClassifier()\n",
    "knn.fit(X_train,y_train)"
   ]
  },
  {
   "cell_type": "code",
   "execution_count": null,
   "id": "7d7f1641",
   "metadata": {},
   "outputs": [],
   "source": [
    "print('Accuracy of KNN n-5, on the trainning set:{:.3f}'.format(knn.score(X_train,y_train)))\n",
    "print('Accuracy of KNN n-5, on the testting set:{:.3f}'.format(knn.score(X_test,y_test)))"
   ]
  },
  {
   "cell_type": "code",
   "execution_count": null,
   "id": "02e9eaa2",
   "metadata": {},
   "outputs": [],
   "source": [
    "from sklearn import tree\n",
    "clf = tree.DecisionTreeClassifier()\n",
    "clf = clf.fit(X_train, y_train)\n",
    "print('The accuracy on the training subset: {:.3f}'.format(clf.score(X_train, y_train)))\n",
    "print('The accuracy on the test subset: {:.3f}'.format(clf.score(X_test,y_test)))"
   ]
  },
  {
   "cell_type": "code",
   "execution_count": null,
   "id": "1f365992",
   "metadata": {},
   "outputs": [],
   "source": [
    "Data['surface_label']"
   ]
  },
  {
   "cell_type": "code",
   "execution_count": null,
   "id": "7de0ac62",
   "metadata": {},
   "outputs": [],
   "source": [
    "from sklearn.externals import joblib"
   ]
  },
  {
   "cell_type": "code",
   "execution_count": null,
   "id": "f6a9bdfd",
   "metadata": {},
   "outputs": [],
   "source": [
    "joblib.dump(svm,'Detect Surface')"
   ]
  },
  {
   "cell_type": "code",
   "execution_count": null,
   "id": "865b90c8",
   "metadata": {},
   "outputs": [],
   "source": [
    "clf=joblib.load('Detect Surface')"
   ]
  }
 ],
 "metadata": {
  "kernelspec": {
   "display_name": "Python 3",
   "language": "python",
   "name": "python3"
  },
  "language_info": {
   "codemirror_mode": {
    "name": "ipython",
    "version": 3
   },
   "file_extension": ".py",
   "mimetype": "text/x-python",
   "name": "python",
   "nbconvert_exporter": "python",
   "pygments_lexer": "ipython3",
   "version": "3.8.8"
  }
 },
 "nbformat": 4,
 "nbformat_minor": 5
}
